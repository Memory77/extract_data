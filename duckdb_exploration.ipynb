{
 "cells": [
  {
   "cell_type": "code",
   "execution_count": null,
   "metadata": {},
   "outputs": [
    {
     "name": "stdout",
     "output_type": "stream",
     "text": [
      "                                                   image        item_ID query  \\\n",
      "0      {'bytes': b'RIFFXV\\x00\\x00WEBPVP8 LV\\x00\\x00P\\...  id-B07Q9J7JTW  None   \n",
      "1      {'bytes': b'RIFF\\x8e\\x1d\\x00\\x00WEBPVP8 \\x82\\x...  id-B07Q9LD5CF  None   \n",
      "2      {'bytes': b'RIFF\\xd0#\\x00\\x00WEBPVP8 \\xc4#\\x00...  id-B07Q9LH8SP  None   \n",
      "3      {'bytes': b'RIFF\\xbcX\\x00\\x00WEBPVP8 \\xb0X\\x00...  id-B07Q9LJ7TJ  None   \n",
      "4      {'bytes': b'RIFF\\xa4\\\\\\x00\\x00WEBPVP8 \\x98\\\\\\x...  id-B07Q9LJBVF  None   \n",
      "...                                                  ...            ...   ...   \n",
      "33328  {'bytes': b'RIFF\\xd2\\x18\\x00\\x00WEBPVP8 \\xc6\\x...  id-B0CKMPX4S1  None   \n",
      "33329  {'bytes': b'RIFFB\\x1c\\x00\\x00WEBPVP8 6\\x1c\\x00...  id-B0CKR2W4NZ  None   \n",
      "33330  {'bytes': b'RIFF\\xd6\\x1d\\x00\\x00WEBPVP8 \\xca\\x...  id-B0CKSG3K3N  None   \n",
      "33331  {'bytes': b'RIFF$\\'\\x00\\x00WEBPVP8 \\x18\\'\\x00\\...  id-B0CKSR5VMV  None   \n",
      "33332  {'bytes': b'RIFF\\xa2,\\x00\\x00WEBPVP8 \\x96,\\x00...  id-B0CKWTP4F5  None   \n",
      "\n",
      "                                                   title  position  \n",
      "0      172 Pcs Zipper Replacement Zipper Repair Kit Z...         0  \n",
      "1      DWCN Total Privacy Room Divider Blackout Curta...         0  \n",
      "2      Benificer Pull Up Bar Set - 3 in 1 Doorway Chi...         0  \n",
      "3                 EverOne Survival First Aid Kit - Black         0  \n",
      "4      LEINASEN Little Kids Girl's Beach Crochet Mesh...         0  \n",
      "...                                                  ...       ...  \n",
      "33328  adidas Women's Itavic 3-Stripes Midweight Hood...         0  \n",
      "33329  BETHZA Diamond Pearl Necklace for Women Sterli...         0  \n",
      "33330  POWEART 30Kpa Cordless Vacuum Cleaner, 8-in-1 ...         0  \n",
      "33331  Rain Cloud Humidifier Water Drip, 2 in 1 Humid...         0  \n",
      "33332  Sensationnel X-pression prestretched braiding ...         0  \n",
      "\n",
      "[33333 rows x 5 columns]\n"
     ]
    },
    {
     "data": {
      "text/plain": [
       "(33333, 5)"
      ]
     },
     "execution_count": 16,
     "metadata": {},
     "output_type": "execute_result"
    }
   ],
   "source": [
    "#LIRE UN PARQUET AVEC PANDAS\n",
    "\n",
    "import pandas as pd\n",
    "\n",
    "# Chemin du fichier Parquet\n",
    "file_path = \"downloads/test-00002-of-00003.parquet\"\n",
    "\n",
    "# Lire le fichier Parquet\n",
    "df = pd.read_parquet(file_path, engine='pyarrow')\n",
    "\n",
    "# Afficher le contenu du DataFrame\n",
    "print(df)\n",
    "df.shape\n"
   ]
  },
  {
   "cell_type": "code",
   "execution_count": null,
   "metadata": {},
   "outputs": [
    {
     "name": "stdout",
     "output_type": "stream",
     "text": [
      "                                               title\n",
      "0  Sensationnel X-pression prestretched braiding ...\n"
     ]
    }
   ],
   "source": [
    "#FAIRE DES QUERY SQL DANS UN FICHIER PARQUET AVEC DUCKDB\n",
    "\n",
    "import duckdb\n",
    "\n",
    "# Chargez un fichier Parquet (remplacez 'your_file.parquet' par le chemin vers votre fichier)\n",
    "file_path = \"downloads/test-00002-of-00003.parquet\"\n",
    "\n",
    "# Requêtes directes sur le fichier Parquet\n",
    "query = f\"\"\"\n",
    "    SELECT \n",
    "        title\n",
    "    FROM '{file_path}'\n",
    "    WHERE title LIKE '%Sensationnel%'\n",
    "\"\"\"\n",
    "\n",
    "# Exécutez la requête avec DuckDB\n",
    "result = duckdb.query(query).to_df()\n",
    "\n",
    "# Affichez les résultats\n",
    "print(result)\n"
   ]
  },
  {
   "cell_type": "code",
   "execution_count": null,
   "metadata": {},
   "outputs": [],
   "source": [
    "#FAIRE DES QUERY SQL DIRECTEMENT D'UN CSV COMPRESSÉ ZIP AVEC DUCKDB"
   ]
  }
 ],
 "metadata": {
  "kernelspec": {
   "display_name": "venv",
   "language": "python",
   "name": "python3"
  },
  "language_info": {
   "codemirror_mode": {
    "name": "ipython",
    "version": 3
   },
   "file_extension": ".py",
   "mimetype": "text/x-python",
   "name": "python",
   "nbconvert_exporter": "python",
   "pygments_lexer": "ipython3",
   "version": "3.12.3"
  }
 },
 "nbformat": 4,
 "nbformat_minor": 2
}
