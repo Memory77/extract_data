{
 "cells": [
  {
   "cell_type": "code",
   "execution_count": 16,
   "metadata": {},
   "outputs": [
    {
     "name": "stdout",
     "output_type": "stream",
     "text": [
      "                                                   image        item_ID query  \\\n",
      "0      {'bytes': b'RIFFXV\\x00\\x00WEBPVP8 LV\\x00\\x00P\\...  id-B07Q9J7JTW  None   \n",
      "1      {'bytes': b'RIFF\\x8e\\x1d\\x00\\x00WEBPVP8 \\x82\\x...  id-B07Q9LD5CF  None   \n",
      "2      {'bytes': b'RIFF\\xd0#\\x00\\x00WEBPVP8 \\xc4#\\x00...  id-B07Q9LH8SP  None   \n",
      "3      {'bytes': b'RIFF\\xbcX\\x00\\x00WEBPVP8 \\xb0X\\x00...  id-B07Q9LJ7TJ  None   \n",
      "4      {'bytes': b'RIFF\\xa4\\\\\\x00\\x00WEBPVP8 \\x98\\\\\\x...  id-B07Q9LJBVF  None   \n",
      "...                                                  ...            ...   ...   \n",
      "33328  {'bytes': b'RIFF\\xd2\\x18\\x00\\x00WEBPVP8 \\xc6\\x...  id-B0CKMPX4S1  None   \n",
      "33329  {'bytes': b'RIFFB\\x1c\\x00\\x00WEBPVP8 6\\x1c\\x00...  id-B0CKR2W4NZ  None   \n",
      "33330  {'bytes': b'RIFF\\xd6\\x1d\\x00\\x00WEBPVP8 \\xca\\x...  id-B0CKSG3K3N  None   \n",
      "33331  {'bytes': b'RIFF$\\'\\x00\\x00WEBPVP8 \\x18\\'\\x00\\...  id-B0CKSR5VMV  None   \n",
      "33332  {'bytes': b'RIFF\\xa2,\\x00\\x00WEBPVP8 \\x96,\\x00...  id-B0CKWTP4F5  None   \n",
      "\n",
      "                                                   title  position  \n",
      "0      172 Pcs Zipper Replacement Zipper Repair Kit Z...         0  \n",
      "1      DWCN Total Privacy Room Divider Blackout Curta...         0  \n",
      "2      Benificer Pull Up Bar Set - 3 in 1 Doorway Chi...         0  \n",
      "3                 EverOne Survival First Aid Kit - Black         0  \n",
      "4      LEINASEN Little Kids Girl's Beach Crochet Mesh...         0  \n",
      "...                                                  ...       ...  \n",
      "33328  adidas Women's Itavic 3-Stripes Midweight Hood...         0  \n",
      "33329  BETHZA Diamond Pearl Necklace for Women Sterli...         0  \n",
      "33330  POWEART 30Kpa Cordless Vacuum Cleaner, 8-in-1 ...         0  \n",
      "33331  Rain Cloud Humidifier Water Drip, 2 in 1 Humid...         0  \n",
      "33332  Sensationnel X-pression prestretched braiding ...         0  \n",
      "\n",
      "[33333 rows x 5 columns]\n"
     ]
    },
    {
     "data": {
      "text/plain": [
       "(33333, 5)"
      ]
     },
     "execution_count": 16,
     "metadata": {},
     "output_type": "execute_result"
    }
   ],
   "source": [
    "import pandas as pd\n",
    "\n",
    "# Chemin du fichier Parquet\n",
    "file_path = \"downloads/test-00002-of-00003.parquet\"\n",
    "\n",
    "# Lire le fichier Parquet\n",
    "df = pd.read_parquet(file_path, engine='pyarrow')\n",
    "\n",
    "# Afficher le contenu du DataFrame\n",
    "print(df)\n",
    "df.shape\n"
   ]
  },
  {
   "cell_type": "code",
   "execution_count": 7,
   "metadata": {},
   "outputs": [
    {
     "ename": "TypeError",
     "evalue": "expected str, bytes or os.PathLike object, not DataFrame",
     "output_type": "error",
     "traceback": [
      "\u001b[0;31m---------------------------------------------------------------------------\u001b[0m",
      "\u001b[0;31mTypeError\u001b[0m                                 Traceback (most recent call last)",
      "Cell \u001b[0;32mIn[7], line 14\u001b[0m\n\u001b[1;32m     11\u001b[0m \u001b[38;5;28;01mfor\u001b[39;00m index, binary_data \u001b[38;5;129;01min\u001b[39;00m \u001b[38;5;28menumerate\u001b[39m(df[binary_column]):\n\u001b[1;32m     12\u001b[0m     \u001b[38;5;28;01mif\u001b[39;00m binary_data:  \u001b[38;5;66;03m# Vérifiez que les données ne sont pas nulles\u001b[39;00m\n\u001b[1;32m     13\u001b[0m         \u001b[38;5;66;03m# Sauvegarder chaque image PNG\u001b[39;00m\n\u001b[0;32m---> 14\u001b[0m         image_path \u001b[38;5;241m=\u001b[39m \u001b[43mos\u001b[49m\u001b[38;5;241;43m.\u001b[39;49m\u001b[43mpath\u001b[49m\u001b[38;5;241;43m.\u001b[39;49m\u001b[43mjoin\u001b[49m\u001b[43m(\u001b[49m\u001b[43mdf\u001b[49m\u001b[43m,\u001b[49m\u001b[43m \u001b[49m\u001b[38;5;124;43mf\u001b[39;49m\u001b[38;5;124;43m\"\u001b[39;49m\u001b[38;5;124;43mimage_\u001b[39;49m\u001b[38;5;132;43;01m{\u001b[39;49;00m\u001b[43mindex\u001b[49m\u001b[38;5;132;43;01m}\u001b[39;49;00m\u001b[38;5;124;43m.png\u001b[39;49m\u001b[38;5;124;43m\"\u001b[39;49m\u001b[43m)\u001b[49m\n\u001b[1;32m     15\u001b[0m         \u001b[38;5;28;01mwith\u001b[39;00m \u001b[38;5;28mopen\u001b[39m(image_path, \u001b[38;5;124m\"\u001b[39m\u001b[38;5;124mwb\u001b[39m\u001b[38;5;124m\"\u001b[39m) \u001b[38;5;28;01mas\u001b[39;00m file:\n\u001b[1;32m     16\u001b[0m             file\u001b[38;5;241m.\u001b[39mwrite(binary_data)\n",
      "File \u001b[0;32m~/miniconda3/lib/python3.9/posixpath.py:76\u001b[0m, in \u001b[0;36mjoin\u001b[0;34m(a, *p)\u001b[0m\n\u001b[1;32m     71\u001b[0m \u001b[38;5;28;01mdef\u001b[39;00m \u001b[38;5;21mjoin\u001b[39m(a, \u001b[38;5;241m*\u001b[39mp):\n\u001b[1;32m     72\u001b[0m \u001b[38;5;250m    \u001b[39m\u001b[38;5;124;03m\"\"\"Join two or more pathname components, inserting '/' as needed.\u001b[39;00m\n\u001b[1;32m     73\u001b[0m \u001b[38;5;124;03m    If any component is an absolute path, all previous path components\u001b[39;00m\n\u001b[1;32m     74\u001b[0m \u001b[38;5;124;03m    will be discarded.  An empty last part will result in a path that\u001b[39;00m\n\u001b[1;32m     75\u001b[0m \u001b[38;5;124;03m    ends with a separator.\"\"\"\u001b[39;00m\n\u001b[0;32m---> 76\u001b[0m     a \u001b[38;5;241m=\u001b[39m \u001b[43mos\u001b[49m\u001b[38;5;241;43m.\u001b[39;49m\u001b[43mfspath\u001b[49m\u001b[43m(\u001b[49m\u001b[43ma\u001b[49m\u001b[43m)\u001b[49m\n\u001b[1;32m     77\u001b[0m     sep \u001b[38;5;241m=\u001b[39m _get_sep(a)\n\u001b[1;32m     78\u001b[0m     path \u001b[38;5;241m=\u001b[39m a\n",
      "\u001b[0;31mTypeError\u001b[0m: expected str, bytes or os.PathLike object, not DataFrame"
     ]
    }
   ],
   "source": [
    "import os \n",
    "\n",
    "# Dossier de sortie pour les images\n",
    "output_dir = \"images_extraites\"\n",
    "os.makedirs(output_dir, exist_ok=True)\n",
    "# Identifier la colonne contenant les fichiers PNG (par exemple : 'images')\n",
    "binary_column = \"image\"  # Changez ce nom pour correspondre à votre colonne réelle\n",
    "\n",
    "# Vérifier si la colonne contient des données binaires\n",
    "if binary_column in df.columns:\n",
    "    for index, binary_data in enumerate(df[binary_column]):\n",
    "        if binary_data:  # Vérifiez que les données ne sont pas nulles\n",
    "            # Sauvegarder chaque image PNG\n",
    "            image_path = os.path.join(df, f\"image_{index}.png\")\n",
    "            with open(image_path, \"wb\") as file:\n",
    "                file.write(binary_data)\n",
    "            print(f\"Image sauvegardée : {image_path}\")\n",
    "else:\n",
    "    print(f\"La colonne '{binary_column}' n'existe pas dans le fichier Parquet.\")"
   ]
  }
 ],
 "metadata": {
  "kernelspec": {
   "display_name": "venv",
   "language": "python",
   "name": "python3"
  },
  "language_info": {
   "codemirror_mode": {
    "name": "ipython",
    "version": 3
   },
   "file_extension": ".py",
   "mimetype": "text/x-python",
   "name": "python",
   "nbconvert_exporter": "python",
   "pygments_lexer": "ipython3",
   "version": "3.9.12"
  }
 },
 "nbformat": 4,
 "nbformat_minor": 2
}
